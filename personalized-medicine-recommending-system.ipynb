{
 "cells": [
  {
   "cell_type": "code",
   "execution_count": 1,
   "id": "809feeab",
   "metadata": {
    "_cell_guid": "b1076dfc-b9ad-4769-8c92-a6c4dae69d19",
    "_uuid": "8f2839f25d086af736a60e9eeb907d3b93b6e0e5",
    "execution": {
     "iopub.execute_input": "2024-03-04T03:12:30.163526Z",
     "iopub.status.busy": "2024-03-04T03:12:30.163163Z",
     "iopub.status.idle": "2024-03-04T03:12:33.753473Z",
     "shell.execute_reply": "2024-03-04T03:12:33.752328Z"
    },
    "papermill": {
     "duration": 3.60066,
     "end_time": "2024-03-04T03:12:33.755802",
     "exception": false,
     "start_time": "2024-03-04T03:12:30.155142",
     "status": "completed"
    },
    "tags": []
   },
   "outputs": [
    {
     "name": "stdout",
     "output_type": "stream",
     "text": [
      "/kaggle/input/medical-reccomadation-dataset/medical data.csv\n"
     ]
    }
   ],
   "source": [
    "# This Python 3 environment comes with many helpful analytics libraries installed\n",
    "# It is defined by the kaggle/python Docker image: https://github.com/kaggle/docker-python\n",
    "# For example, here's several helpful packages to load\n",
    "\n",
    "import numpy as np # linear algebra\n",
    "import pandas as pd # data processing, CSV file I/O (e.g. pd.read_csv)\n",
    "import matplotlib.pyplot as plt\n",
    "import seaborn as sns\n",
    "from sklearn.model_selection import train_test_split\n",
    "from sklearn.preprocessing import StandardScaler\n",
    "from sklearn.svm import SVC\n",
    "from sklearn.ensemble import RandomForestClassifier\n",
    "from sklearn.tree import DecisionTreeClassifier\n",
    "from sklearn.neighbors import KNeighborsClassifier\n",
    "from sklearn.metrics import classification_report, accuracy_score\n",
    "\n",
    "# Input data files are available in the read-only \"../input/\" directory\n",
    "# For example, running this (by clicking run or pressing Shift+Enter) will list all files under the input directory\n",
    "\n",
    "import os\n",
    "for dirname, _, filenames in os.walk('/kaggle/input'):\n",
    "    for filename in filenames:\n",
    "        print(os.path.join(dirname, filename))\n",
    "# You can write up to 20GB to the current directory (/kaggle/working/) that gets preserved as output when you create a version using \"Save & Run All\" \n",
    "# You can also write temporary files to /kaggle/temp/, but they won't be saved outside of the current session"
   ]
  },
  {
   "cell_type": "code",
   "execution_count": 2,
   "id": "a278734d",
   "metadata": {
    "execution": {
     "iopub.execute_input": "2024-03-04T03:12:33.769732Z",
     "iopub.status.busy": "2024-03-04T03:12:33.769199Z",
     "iopub.status.idle": "2024-03-04T03:12:33.790123Z",
     "shell.execute_reply": "2024-03-04T03:12:33.788971Z"
    },
    "papermill": {
     "duration": 0.031082,
     "end_time": "2024-03-04T03:12:33.792849",
     "exception": false,
     "start_time": "2024-03-04T03:12:33.761767",
     "status": "completed"
    },
    "tags": []
   },
   "outputs": [],
   "source": [
    "# loadin the datset\n",
    "data = pd.read_csv('/kaggle/input/medical-reccomadation-dataset/medical data.csv')"
   ]
  },
  {
   "cell_type": "code",
   "execution_count": 3,
   "id": "03eafbab",
   "metadata": {
    "execution": {
     "iopub.execute_input": "2024-03-04T03:12:33.806060Z",
     "iopub.status.busy": "2024-03-04T03:12:33.805651Z",
     "iopub.status.idle": "2024-03-04T03:12:33.811230Z",
     "shell.execute_reply": "2024-03-04T03:12:33.810342Z"
    },
    "papermill": {
     "duration": 0.014505,
     "end_time": "2024-03-04T03:12:33.813277",
     "exception": false,
     "start_time": "2024-03-04T03:12:33.798772",
     "status": "completed"
    },
    "tags": []
   },
   "outputs": [
    {
     "name": "stdout",
     "output_type": "stream",
     "text": [
      "Index(['Name', 'DateOfBirth', 'Gender', 'Symptoms', 'Causes', 'Disease',\n",
      "       'Medicine'],\n",
      "      dtype='object')\n"
     ]
    }
   ],
   "source": [
    "#   Verify Column Names\n",
    "print(data.columns)"
   ]
  },
  {
   "cell_type": "code",
   "execution_count": 4,
   "id": "063c179f",
   "metadata": {
    "execution": {
     "iopub.execute_input": "2024-03-04T03:12:33.826483Z",
     "iopub.status.busy": "2024-03-04T03:12:33.826075Z",
     "iopub.status.idle": "2024-03-04T03:12:33.862189Z",
     "shell.execute_reply": "2024-03-04T03:12:33.860555Z"
    },
    "papermill": {
     "duration": 0.045444,
     "end_time": "2024-03-04T03:12:33.864469",
     "exception": false,
     "start_time": "2024-03-04T03:12:33.819025",
     "status": "completed"
    },
    "tags": []
   },
   "outputs": [
    {
     "name": "stdout",
     "output_type": "stream",
     "text": [
      "<class 'pandas.core.frame.DataFrame'>\n",
      "RangeIndex: 287 entries, 0 to 286\n",
      "Data columns (total 7 columns):\n",
      " #   Column       Non-Null Count  Dtype \n",
      "---  ------       --------------  ----- \n",
      " 0   Name         241 non-null    object\n",
      " 1   DateOfBirth  241 non-null    object\n",
      " 2   Gender       242 non-null    object\n",
      " 3   Symptoms     247 non-null    object\n",
      " 4   Causes       245 non-null    object\n",
      " 5   Disease      249 non-null    object\n",
      " 6   Medicine     242 non-null    object\n",
      "dtypes: object(7)\n",
      "memory usage: 15.8+ KB\n"
     ]
    }
   ],
   "source": [
    "data.info()"
   ]
  },
  {
   "cell_type": "code",
   "execution_count": 5,
   "id": "95609bd2",
   "metadata": {
    "execution": {
     "iopub.execute_input": "2024-03-04T03:12:33.878352Z",
     "iopub.status.busy": "2024-03-04T03:12:33.877660Z",
     "iopub.status.idle": "2024-03-04T03:12:33.885939Z",
     "shell.execute_reply": "2024-03-04T03:12:33.885079Z"
    },
    "papermill": {
     "duration": 0.018036,
     "end_time": "2024-03-04T03:12:33.888415",
     "exception": false,
     "start_time": "2024-03-04T03:12:33.870379",
     "status": "completed"
    },
    "tags": []
   },
   "outputs": [
    {
     "data": {
      "text/plain": [
       "Name           46\n",
       "DateOfBirth    46\n",
       "Gender         45\n",
       "Symptoms       40\n",
       "Causes         42\n",
       "Disease        38\n",
       "Medicine       45\n",
       "dtype: int64"
      ]
     },
     "execution_count": 5,
     "metadata": {},
     "output_type": "execute_result"
    }
   ],
   "source": [
    "data.isnull().sum()"
   ]
  },
  {
   "cell_type": "code",
   "execution_count": 6,
   "id": "2d857cb0",
   "metadata": {
    "execution": {
     "iopub.execute_input": "2024-03-04T03:12:33.902520Z",
     "iopub.status.busy": "2024-03-04T03:12:33.901847Z",
     "iopub.status.idle": "2024-03-04T03:12:33.909507Z",
     "shell.execute_reply": "2024-03-04T03:12:33.908115Z"
    },
    "papermill": {
     "duration": 0.017236,
     "end_time": "2024-03-04T03:12:33.911652",
     "exception": false,
     "start_time": "2024-03-04T03:12:33.894416",
     "status": "completed"
    },
    "tags": []
   },
   "outputs": [
    {
     "name": "stdout",
     "output_type": "stream",
     "text": [
      "Name           46\n",
      "DateOfBirth    46\n",
      "Gender         45\n",
      "Symptoms       40\n",
      "Causes         42\n",
      "Disease        38\n",
      "Medicine       45\n",
      "dtype: int64\n"
     ]
    }
   ],
   "source": [
    "# Check for missing values in each column\n",
    "missing_values = data.isnull().sum()\n",
    "\n",
    "# Display columns with missing values\n",
    "print(missing_values[missing_values > 0])"
   ]
  },
  {
   "cell_type": "code",
   "execution_count": 7,
   "id": "c0329cb6",
   "metadata": {
    "execution": {
     "iopub.execute_input": "2024-03-04T03:12:33.925614Z",
     "iopub.status.busy": "2024-03-04T03:12:33.924943Z",
     "iopub.status.idle": "2024-03-04T03:12:33.950147Z",
     "shell.execute_reply": "2024-03-04T03:12:33.948946Z"
    },
    "papermill": {
     "duration": 0.034631,
     "end_time": "2024-03-04T03:12:33.952339",
     "exception": false,
     "start_time": "2024-03-04T03:12:33.917708",
     "status": "completed"
    },
    "tags": []
   },
   "outputs": [
    {
     "name": "stderr",
     "output_type": "stream",
     "text": [
      "/tmp/ipykernel_19/1203149450.py:3: UserWarning: Parsing dates in %d-%m-%Y format when dayfirst=False (the default) was specified. Pass `dayfirst=True` or specify a format to silence this warning.\n",
      "  data['DateOfBirth'] = pd.to_datetime(data['DateOfBirth'], errors='coerce')\n"
     ]
    }
   ],
   "source": [
    "# Handling missing values---i use  Data Imputation\n",
    "# Numeric Columns (DateOfBirth): I impute missing values using the mean or median.\n",
    "data['DateOfBirth'] = pd.to_datetime(data['DateOfBirth'], errors='coerce')\n",
    "\n",
    "# Calculate median excluding NaT values (Not a time)\n",
    "median_date = data['DateOfBirth'].dropna().median()\n",
    "\n",
    "# Fill missing values with the median date\n",
    "data['DateOfBirth'].fillna(median_date, inplace=True)\n",
    "\n",
    "# Categorical Columns (Gender, Symptoms, Causes, Disease, Medicine):I impute missing values with the mode (most frequent value).\n",
    "categorical_columns = ['Gender', 'Symptoms', 'Causes', 'Disease', 'Medicine']\n",
    "for column in categorical_columns:\n",
    "    data[column].fillna(data[column].mode()[0], inplace=True)"
   ]
  },
  {
   "cell_type": "code",
   "execution_count": 8,
   "id": "a6afa767",
   "metadata": {
    "execution": {
     "iopub.execute_input": "2024-03-04T03:12:33.966729Z",
     "iopub.status.busy": "2024-03-04T03:12:33.965661Z",
     "iopub.status.idle": "2024-03-04T03:12:33.974379Z",
     "shell.execute_reply": "2024-03-04T03:12:33.972977Z"
    },
    "papermill": {
     "duration": 0.018499,
     "end_time": "2024-03-04T03:12:33.976821",
     "exception": false,
     "start_time": "2024-03-04T03:12:33.958322",
     "status": "completed"
    },
    "tags": []
   },
   "outputs": [
    {
     "name": "stdout",
     "output_type": "stream",
     "text": [
      "Name    46\n",
      "dtype: int64\n"
     ]
    }
   ],
   "source": [
    "# Check for missing values in each column\n",
    "missing_values = data.isnull().sum()\n",
    "\n",
    "# Display columns with missing values\n",
    "print(missing_values[missing_values > 0])"
   ]
  },
  {
   "cell_type": "code",
   "execution_count": 9,
   "id": "24c33f1f",
   "metadata": {
    "execution": {
     "iopub.execute_input": "2024-03-04T03:12:33.991112Z",
     "iopub.status.busy": "2024-03-04T03:12:33.990714Z",
     "iopub.status.idle": "2024-03-04T03:12:33.996301Z",
     "shell.execute_reply": "2024-03-04T03:12:33.995174Z"
    },
    "papermill": {
     "duration": 0.014893,
     "end_time": "2024-03-04T03:12:33.998242",
     "exception": false,
     "start_time": "2024-03-04T03:12:33.983349",
     "status": "completed"
    },
    "tags": []
   },
   "outputs": [],
   "source": [
    "# Handle the missing values in column Name by imputation method\n",
    "data['Name'].fillna('Unknown', inplace=True)\n"
   ]
  },
  {
   "cell_type": "code",
   "execution_count": 10,
   "id": "9950834e",
   "metadata": {
    "execution": {
     "iopub.execute_input": "2024-03-04T03:12:34.012531Z",
     "iopub.status.busy": "2024-03-04T03:12:34.011690Z",
     "iopub.status.idle": "2024-03-04T03:12:34.020272Z",
     "shell.execute_reply": "2024-03-04T03:12:34.019187Z"
    },
    "papermill": {
     "duration": 0.018039,
     "end_time": "2024-03-04T03:12:34.022421",
     "exception": false,
     "start_time": "2024-03-04T03:12:34.004382",
     "status": "completed"
    },
    "tags": []
   },
   "outputs": [
    {
     "data": {
      "text/plain": [
       "Name           0\n",
       "DateOfBirth    0\n",
       "Gender         0\n",
       "Symptoms       0\n",
       "Causes         0\n",
       "Disease        0\n",
       "Medicine       0\n",
       "dtype: int64"
      ]
     },
     "execution_count": 10,
     "metadata": {},
     "output_type": "execute_result"
    }
   ],
   "source": [
    "data.isnull().sum()"
   ]
  },
  {
   "cell_type": "code",
   "execution_count": 11,
   "id": "ee748270",
   "metadata": {
    "execution": {
     "iopub.execute_input": "2024-03-04T03:12:34.036825Z",
     "iopub.status.busy": "2024-03-04T03:12:34.036440Z",
     "iopub.status.idle": "2024-03-04T03:12:34.043887Z",
     "shell.execute_reply": "2024-03-04T03:12:34.042767Z"
    },
    "papermill": {
     "duration": 0.017632,
     "end_time": "2024-03-04T03:12:34.046324",
     "exception": false,
     "start_time": "2024-03-04T03:12:34.028692",
     "status": "completed"
    },
    "tags": []
   },
   "outputs": [
    {
     "name": "stdout",
     "output_type": "stream",
     "text": [
      "Series([], dtype: int64)\n"
     ]
    }
   ],
   "source": [
    "# Check for missing values in each column\n",
    "missing_values = data.isnull().sum()\n",
    "\n",
    "# Display columns with missing values\n",
    "print(missing_values[missing_values > 0])"
   ]
  },
  {
   "cell_type": "code",
   "execution_count": 12,
   "id": "8adbe2f4",
   "metadata": {
    "execution": {
     "iopub.execute_input": "2024-03-04T03:12:34.060636Z",
     "iopub.status.busy": "2024-03-04T03:12:34.060242Z",
     "iopub.status.idle": "2024-03-04T03:12:34.070515Z",
     "shell.execute_reply": "2024-03-04T03:12:34.069446Z"
    },
    "papermill": {
     "duration": 0.019864,
     "end_time": "2024-03-04T03:12:34.072476",
     "exception": false,
     "start_time": "2024-03-04T03:12:34.052612",
     "status": "completed"
    },
    "tags": []
   },
   "outputs": [],
   "source": [
    "# Since most of my data is categorical, i want to encode it into a numerical format suitable for machine learning models.\n",
    "import pandas as pd\n",
    "from sklearn.preprocessing import LabelEncoder\n",
    "\n",
    "# Encode categorical variables\n",
    "label_encoders = {}\n",
    "for column in data.columns:\n",
    "    if data[column].dtype == 'object':\n",
    "        le = LabelEncoder()\n",
    "        data[column] = le.fit_transform(data[column])\n",
    "        label_encoders[column] = le"
   ]
  },
  {
   "cell_type": "code",
   "execution_count": 13,
   "id": "c7a9a501",
   "metadata": {
    "execution": {
     "iopub.execute_input": "2024-03-04T03:12:34.086795Z",
     "iopub.status.busy": "2024-03-04T03:12:34.086407Z",
     "iopub.status.idle": "2024-03-04T03:12:35.167905Z",
     "shell.execute_reply": "2024-03-04T03:12:35.167022Z"
    },
    "papermill": {
     "duration": 1.091807,
     "end_time": "2024-03-04T03:12:35.170521",
     "exception": false,
     "start_time": "2024-03-04T03:12:34.078714",
     "status": "completed"
    },
    "tags": []
   },
   "outputs": [
    {
     "data": {
      "image/png": "[encoded data removed]",
      "text/plain": [
       "<Figure size 640x480 with 1 Axes>"
      ]
     },
     "metadata": {},
     "output_type": "display_data"
    },
    {
     "data": {
      "image/png": "[encoded data removed]",
      "text/plain": [
       "<Figure size 640x480 with 2 Axes>"
      ]
     },
     "metadata": {},
     "output_type": "display_data"
    }
   ],
   "source": [
    "# Exploratory Data Analysis (EDA)\n",
    "# Class distribution for Medicine\n",
    "sns.countplot(data=data, x='Medicine')\n",
    "plt.title('Distribution of Medicine')\n",
    "plt.show()\n",
    "\n",
    "# Correlation heatmap for numerical columns\n",
    "numeric_columns = ['DateOfBirth']\n",
    "sns.heatmap(data[numeric_columns].corr(), annot=True, cmap='coolwarm')\n",
    "plt.title('Correlation Heatmap')\n",
    "plt.show()"
   ]
  },
  {
   "cell_type": "code",
   "execution_count": 14,
   "id": "258293d5",
   "metadata": {
    "execution": {
     "iopub.execute_input": "2024-03-04T03:12:35.192460Z",
     "iopub.status.busy": "2024-03-04T03:12:35.190766Z",
     "iopub.status.idle": "2024-03-04T03:12:35.199509Z",
     "shell.execute_reply": "2024-03-04T03:12:35.198299Z"
    },
    "papermill": {
     "duration": 0.020327,
     "end_time": "2024-03-04T03:12:35.202127",
     "exception": false,
     "start_time": "2024-03-04T03:12:35.181800",
     "status": "completed"
    },
    "tags": []
   },
   "outputs": [],
   "source": [
    "# Data Processing : We need to encode categorical variables for the machine learning models.\n",
    "from sklearn.preprocessing import LabelEncoder\n",
    "\n",
    "encoder = LabelEncoder()\n",
    "for column in categorical_columns:\n",
    "    data[column] = encoder.fit_transform(data[column])"
   ]
  },
  {
   "cell_type": "code",
   "execution_count": 15,
   "id": "dc612896",
   "metadata": {
    "execution": {
     "iopub.execute_input": "2024-03-04T03:12:35.220330Z",
     "iopub.status.busy": "2024-03-04T03:12:35.218632Z",
     "iopub.status.idle": "2024-03-04T03:12:35.228591Z",
     "shell.execute_reply": "2024-03-04T03:12:35.227691Z"
    },
    "papermill": {
     "duration": 0.02111,
     "end_time": "2024-03-04T03:12:35.230906",
     "exception": false,
     "start_time": "2024-03-04T03:12:35.209796",
     "status": "completed"
    },
    "tags": []
   },
   "outputs": [],
   "source": [
    "# splitting the datset: We divide the dataset into training and testing sets.\n",
    "from sklearn.model_selection import train_test_split\n",
    "\n",
    "X = data.drop('Medicine', axis=1)\n",
    "y = data['Medicine']\n",
    "\n",
    "X_train, X_test, y_train, y_test = train_test_split(X, y, test_size=0.2, random_state=42)"
   ]
  },
  {
   "cell_type": "code",
   "execution_count": 16,
   "id": "29edae85",
   "metadata": {
    "execution": {
     "iopub.execute_input": "2024-03-04T03:12:35.247459Z",
     "iopub.status.busy": "2024-03-04T03:12:35.246535Z",
     "iopub.status.idle": "2024-03-04T03:12:35.264546Z",
     "shell.execute_reply": "2024-03-04T03:12:35.263229Z"
    },
    "papermill": {
     "duration": 0.028948,
     "end_time": "2024-03-04T03:12:35.266990",
     "exception": false,
     "start_time": "2024-03-04T03:12:35.238042",
     "status": "completed"
    },
    "tags": []
   },
   "outputs": [
    {
     "name": "stdout",
     "output_type": "stream",
     "text": [
      "Decision Tree Accuracy: 0.8448275862068966\n"
     ]
    }
   ],
   "source": [
    "# Drop the DateOfBirth column from the datasets\n",
    "X_train = X_train.drop('DateOfBirth', axis=1)\n",
    "X_test = X_test.drop('DateOfBirth', axis=1)\n",
    "\n",
    "# Fit the Decision Tree Classifier\n",
    "dt_classifier = DecisionTreeClassifier(random_state=42)\n",
    "dt_classifier.fit(X_train, y_train)\n",
    "\n",
    "# Make predictions and evaluate\n",
    "y_pred_dt = dt_classifier.predict(X_test)\n",
    "accuracy_dt = accuracy_score(y_test, y_pred_dt)\n",
    "print(f\"Decision Tree Accuracy: {accuracy_dt}\")"
   ]
  },
  {
   "cell_type": "code",
   "execution_count": 17,
   "id": "d8ee66f6",
   "metadata": {
    "execution": {
     "iopub.execute_input": "2024-03-04T03:12:35.283789Z",
     "iopub.status.busy": "2024-03-04T03:12:35.283007Z",
     "iopub.status.idle": "2024-03-04T03:12:35.494207Z",
     "shell.execute_reply": "2024-03-04T03:12:35.492869Z"
    },
    "papermill": {
     "duration": 0.222854,
     "end_time": "2024-03-04T03:12:35.497184",
     "exception": false,
     "start_time": "2024-03-04T03:12:35.274330",
     "status": "completed"
    },
    "tags": []
   },
   "outputs": [
    {
     "name": "stdout",
     "output_type": "stream",
     "text": [
      "Random Forest Accuracy: 0.896551724137931\n"
     ]
    }
   ],
   "source": [
    "# Random classifier\n",
    "from sklearn.ensemble import RandomForestClassifier\n",
    "\n",
    "rf_classifier = RandomForestClassifier(random_state=42)\n",
    "rf_classifier.fit(X_train, y_train)\n",
    "\n",
    "y_pred_rf = rf_classifier.predict(X_test)\n",
    "accuracy_rf = accuracy_score(y_test, y_pred_rf)\n",
    "print(f\"Random Forest Accuracy: {accuracy_rf}\")\n"
   ]
  },
  {
   "cell_type": "code",
   "execution_count": 18,
   "id": "84d6442b",
   "metadata": {
    "execution": {
     "iopub.execute_input": "2024-03-04T03:12:35.519873Z",
     "iopub.status.busy": "2024-03-04T03:12:35.519152Z",
     "iopub.status.idle": "2024-03-04T03:12:35.593029Z",
     "shell.execute_reply": "2024-03-04T03:12:35.591927Z"
    },
    "papermill": {
     "duration": 0.088207,
     "end_time": "2024-03-04T03:12:35.596351",
     "exception": false,
     "start_time": "2024-03-04T03:12:35.508144",
     "status": "completed"
    },
    "tags": []
   },
   "outputs": [
    {
     "name": "stdout",
     "output_type": "stream",
     "text": [
      "Logistic Regression Accuracy: 0.5344827586206896\n"
     ]
    },
    {
     "name": "stderr",
     "output_type": "stream",
     "text": [
      "/opt/conda/lib/python3.10/site-packages/sklearn/linear_model/_logistic.py:458: ConvergenceWarning: lbfgs failed to converge (status=1):\n",
      "STOP: TOTAL NO. of ITERATIONS REACHED LIMIT.\n",
      "\n",
      "Increase the number of iterations (max_iter) or scale the data as shown in:\n",
      "    https://scikit-learn.org/stable/modules/preprocessing.html\n",
      "Please also refer to the documentation for alternative solver options:\n",
      "    https://scikit-learn.org/stable/modules/linear_model.html#logistic-regression\n",
      "  n_iter_i = _check_optimize_result(\n"
     ]
    }
   ],
   "source": [
    "# Logistic Regression (for binary classification)\n",
    "from sklearn.linear_model import LogisticRegression\n",
    "\n",
    "logreg_classifier = LogisticRegression(random_state=42)\n",
    "logreg_classifier.fit(X_train, y_train)\n",
    "\n",
    "y_pred_logreg = logreg_classifier.predict(X_test)\n",
    "accuracy_logreg = accuracy_score(y_test, y_pred_logreg)\n",
    "print(f\"Logistic Regression Accuracy: {accuracy_logreg}\")"
   ]
  },
  {
   "cell_type": "code",
   "execution_count": 19,
   "id": "01e4dbad",
   "metadata": {
    "execution": {
     "iopub.execute_input": "2024-03-04T03:12:35.613799Z",
     "iopub.status.busy": "2024-03-04T03:12:35.612765Z",
     "iopub.status.idle": "2024-03-04T03:12:35.648473Z",
     "shell.execute_reply": "2024-03-04T03:12:35.647416Z"
    },
    "papermill": {
     "duration": 0.04973,
     "end_time": "2024-03-04T03:12:35.653744",
     "exception": false,
     "start_time": "2024-03-04T03:12:35.604014",
     "status": "completed"
    },
    "tags": []
   },
   "outputs": [
    {
     "name": "stdout",
     "output_type": "stream",
     "text": [
      "Decision Tree Classification Report:\n",
      "              precision    recall  f1-score   support\n",
      "\n",
      "           5       0.00      0.00      0.00         0\n",
      "           9       0.00      0.00      0.00         1\n",
      "          10       0.00      0.00      0.00         1\n",
      "          13       0.00      0.00      0.00         1\n",
      "          15       0.00      0.00      0.00         0\n",
      "          19       1.00      1.00      1.00         1\n",
      "          20       1.00      0.50      0.67         2\n",
      "          21       0.00      0.00      0.00         0\n",
      "          22       1.00      1.00      1.00         1\n",
      "          23       1.00      1.00      1.00         3\n",
      "          27       1.00      1.00      1.00         2\n",
      "          28       0.50      1.00      0.67         1\n",
      "          29       0.50      1.00      0.67         1\n",
      "          31       1.00      1.00      1.00         3\n",
      "          32       1.00      1.00      1.00         4\n",
      "          35       0.00      0.00      0.00         0\n",
      "          38       1.00      1.00      1.00         2\n",
      "          40       1.00      1.00      1.00         1\n",
      "          41       1.00      0.67      0.80         3\n",
      "          44       1.00      0.67      0.80         3\n",
      "          45       1.00      1.00      1.00         2\n",
      "          46       1.00      0.50      0.67         2\n",
      "          47       1.00      1.00      1.00         2\n",
      "          50       1.00      1.00      1.00         2\n",
      "          51       0.94      1.00      0.97        15\n",
      "          53       1.00      1.00      1.00         1\n",
      "          54       0.00      0.00      0.00         1\n",
      "          56       0.00      0.00      0.00         0\n",
      "          57       1.00      0.67      0.80         3\n",
      "\n",
      "    accuracy                           0.84        58\n",
      "   macro avg       0.65      0.62      0.62        58\n",
      "weighted avg       0.90      0.84      0.86        58\n",
      "\n",
      "\n",
      "Random Forest Classification Report:\n",
      "              precision    recall  f1-score   support\n",
      "\n",
      "           9       0.00      0.00      0.00         1\n",
      "          10       0.00      0.00      0.00         1\n",
      "          13       0.00      0.00      0.00         1\n",
      "          15       0.00      0.00      0.00         0\n",
      "          19       1.00      1.00      1.00         1\n",
      "          20       1.00      1.00      1.00         2\n",
      "          21       0.00      0.00      0.00         0\n",
      "          22       1.00      1.00      1.00         1\n",
      "          23       1.00      1.00      1.00         3\n",
      "          27       1.00      1.00      1.00         2\n",
      "          28       1.00      1.00      1.00         1\n",
      "          29       0.50      1.00      0.67         1\n",
      "          31       1.00      1.00      1.00         3\n",
      "          32       1.00      1.00      1.00         4\n",
      "          35       0.00      0.00      0.00         0\n",
      "          38       1.00      1.00      1.00         2\n",
      "          39       0.00      0.00      0.00         0\n",
      "          40       1.00      1.00      1.00         1\n",
      "          41       1.00      1.00      1.00         3\n",
      "          44       1.00      1.00      1.00         3\n",
      "          45       1.00      1.00      1.00         2\n",
      "          46       1.00      0.50      0.67         2\n",
      "          47       1.00      1.00      1.00         2\n",
      "          50       1.00      1.00      1.00         2\n",
      "          51       0.94      1.00      0.97        15\n",
      "          53       1.00      1.00      1.00         1\n",
      "          54       0.00      0.00      0.00         1\n",
      "          57       1.00      0.67      0.80         3\n",
      "\n",
      "    accuracy                           0.90        58\n",
      "   macro avg       0.69      0.68      0.68        58\n",
      "weighted avg       0.91      0.90      0.90        58\n",
      "\n",
      "\n",
      "Logistic Regression Classification Report:\n",
      "              precision    recall  f1-score   support\n",
      "\n",
      "           5       0.00      0.00      0.00         0\n",
      "           9       0.00      0.00      0.00         1\n",
      "          10       0.00      0.00      0.00         1\n",
      "          13       0.00      0.00      0.00         1\n",
      "          19       0.00      0.00      0.00         1\n",
      "          20       1.00      0.50      0.67         2\n",
      "          21       0.00      0.00      0.00         0\n",
      "          22       0.50      1.00      0.67         1\n",
      "          23       1.00      1.00      1.00         3\n",
      "          27       1.00      0.50      0.67         2\n",
      "          28       1.00      1.00      1.00         1\n",
      "          29       0.33      1.00      0.50         1\n",
      "          31       0.00      0.00      0.00         3\n",
      "          32       1.00      1.00      1.00         4\n",
      "          38       0.00      0.00      0.00         2\n",
      "          39       0.00      0.00      0.00         0\n",
      "          40       1.00      1.00      1.00         1\n",
      "          41       1.00      0.33      0.50         3\n",
      "          44       0.14      0.33      0.20         3\n",
      "          45       0.00      0.00      0.00         2\n",
      "          46       0.50      0.50      0.50         2\n",
      "          47       0.50      1.00      0.67         2\n",
      "          50       1.00      1.00      1.00         2\n",
      "          51       0.69      0.60      0.64        15\n",
      "          53       0.50      1.00      0.67         1\n",
      "          54       0.00      0.00      0.00         1\n",
      "          56       0.00      0.00      0.00         0\n",
      "          57       1.00      0.33      0.50         3\n",
      "\n",
      "    accuracy                           0.53        58\n",
      "   macro avg       0.43      0.43      0.40        58\n",
      "weighted avg       0.61      0.53      0.54        58\n",
      "\n"
     ]
    },
    {
     "name": "stderr",
     "output_type": "stream",
     "text": [
      "/opt/conda/lib/python3.10/site-packages/sklearn/metrics/_classification.py:1344: UndefinedMetricWarning: Precision and F-score are ill-defined and being set to 0.0 in labels with no predicted samples. Use `zero_division` parameter to control this behavior.\n",
      "  _warn_prf(average, modifier, msg_start, len(result))\n",
      "/opt/conda/lib/python3.10/site-packages/sklearn/metrics/_classification.py:1344: UndefinedMetricWarning: Recall and F-score are ill-defined and being set to 0.0 in labels with no true samples. Use `zero_division` parameter to control this behavior.\n",
      "  _warn_prf(average, modifier, msg_start, len(result))\n",
      "/opt/conda/lib/python3.10/site-packages/sklearn/metrics/_classification.py:1344: UndefinedMetricWarning: Precision and F-score are ill-defined and being set to 0.0 in labels with no predicted samples. Use `zero_division` parameter to control this behavior.\n",
      "  _warn_prf(average, modifier, msg_start, len(result))\n",
      "/opt/conda/lib/python3.10/site-packages/sklearn/metrics/_classification.py:1344: UndefinedMetricWarning: Recall and F-score are ill-defined and being set to 0.0 in labels with no true samples. Use `zero_division` parameter to control this behavior.\n",
      "  _warn_prf(average, modifier, msg_start, len(result))\n",
      "/opt/conda/lib/python3.10/site-packages/sklearn/metrics/_classification.py:1344: UndefinedMetricWarning: Precision and F-score are ill-defined and being set to 0.0 in labels with no predicted samples. Use `zero_division` parameter to control this behavior.\n",
      "  _warn_prf(average, modifier, msg_start, len(result))\n",
      "/opt/conda/lib/python3.10/site-packages/sklearn/metrics/_classification.py:1344: UndefinedMetricWarning: Recall and F-score are ill-defined and being set to 0.0 in labels with no true samples. Use `zero_division` parameter to control this behavior.\n",
      "  _warn_prf(average, modifier, msg_start, len(result))\n",
      "/opt/conda/lib/python3.10/site-packages/sklearn/metrics/_classification.py:1344: UndefinedMetricWarning: Precision and F-score are ill-defined and being set to 0.0 in labels with no predicted samples. Use `zero_division` parameter to control this behavior.\n",
      "  _warn_prf(average, modifier, msg_start, len(result))\n",
      "/opt/conda/lib/python3.10/site-packages/sklearn/metrics/_classification.py:1344: UndefinedMetricWarning: Recall and F-score are ill-defined and being set to 0.0 in labels with no true samples. Use `zero_division` parameter to control this behavior.\n",
      "  _warn_prf(average, modifier, msg_start, len(result))\n",
      "/opt/conda/lib/python3.10/site-packages/sklearn/metrics/_classification.py:1344: UndefinedMetricWarning: Precision and F-score are ill-defined and being set to 0.0 in labels with no predicted samples. Use `zero_division` parameter to control this behavior.\n",
      "  _warn_prf(average, modifier, msg_start, len(result))\n",
      "/opt/conda/lib/python3.10/site-packages/sklearn/metrics/_classification.py:1344: UndefinedMetricWarning: Recall and F-score are ill-defined and being set to 0.0 in labels with no true samples. Use `zero_division` parameter to control this behavior.\n",
      "  _warn_prf(average, modifier, msg_start, len(result))\n",
      "/opt/conda/lib/python3.10/site-packages/sklearn/metrics/_classification.py:1344: UndefinedMetricWarning: Precision and F-score are ill-defined and being set to 0.0 in labels with no predicted samples. Use `zero_division` parameter to control this behavior.\n",
      "  _warn_prf(average, modifier, msg_start, len(result))\n",
      "/opt/conda/lib/python3.10/site-packages/sklearn/metrics/_classification.py:1344: UndefinedMetricWarning: Recall and F-score are ill-defined and being set to 0.0 in labels with no true samples. Use `zero_division` parameter to control this behavior.\n",
      "  _warn_prf(average, modifier, msg_start, len(result))\n",
      "/opt/conda/lib/python3.10/site-packages/sklearn/metrics/_classification.py:1344: UndefinedMetricWarning: Precision and F-score are ill-defined and being set to 0.0 in labels with no predicted samples. Use `zero_division` parameter to control this behavior.\n",
      "  _warn_prf(average, modifier, msg_start, len(result))\n",
      "/opt/conda/lib/python3.10/site-packages/sklearn/metrics/_classification.py:1344: UndefinedMetricWarning: Recall and F-score are ill-defined and being set to 0.0 in labels with no true samples. Use `zero_division` parameter to control this behavior.\n",
      "  _warn_prf(average, modifier, msg_start, len(result))\n",
      "/opt/conda/lib/python3.10/site-packages/sklearn/metrics/_classification.py:1344: UndefinedMetricWarning: Precision and F-score are ill-defined and being set to 0.0 in labels with no predicted samples. Use `zero_division` parameter to control this behavior.\n",
      "  _warn_prf(average, modifier, msg_start, len(result))\n",
      "/opt/conda/lib/python3.10/site-packages/sklearn/metrics/_classification.py:1344: UndefinedMetricWarning: Recall and F-score are ill-defined and being set to 0.0 in labels with no true samples. Use `zero_division` parameter to control this behavior.\n",
      "  _warn_prf(average, modifier, msg_start, len(result))\n",
      "/opt/conda/lib/python3.10/site-packages/sklearn/metrics/_classification.py:1344: UndefinedMetricWarning: Precision and F-score are ill-defined and being set to 0.0 in labels with no predicted samples. Use `zero_division` parameter to control this behavior.\n",
      "  _warn_prf(average, modifier, msg_start, len(result))\n",
      "/opt/conda/lib/python3.10/site-packages/sklearn/metrics/_classification.py:1344: UndefinedMetricWarning: Recall and F-score are ill-defined and being set to 0.0 in labels with no true samples. Use `zero_division` parameter to control this behavior.\n",
      "  _warn_prf(average, modifier, msg_start, len(result))\n"
     ]
    }
   ],
   "source": [
    "# model evaluation---lets Evaluate the models using accuracy, precision, recall, and F1-score.\n",
    "from sklearn.metrics import classification_report\n",
    "\n",
    "print(\"Decision Tree Classification Report:\")\n",
    "print(classification_report(y_test, y_pred_dt))\n",
    "\n",
    "print(\"\\nRandom Forest Classification Report:\")\n",
    "print(classification_report(y_test, y_pred_rf))\n",
    "\n",
    "print(\"\\nLogistic Regression Classification Report:\")\n",
    "print(classification_report(y_test, y_pred_logreg))"
   ]
  },
  {
   "cell_type": "markdown",
   "id": "3b65925f",
   "metadata": {
    "papermill": {
     "duration": 0.007518,
     "end_time": "2024-03-04T03:12:35.669508",
     "exception": false,
     "start_time": "2024-03-04T03:12:35.661990",
     "status": "completed"
    },
    "tags": []
   },
   "source": [
    "**Decision Tree has an accuracy of 0.84 and an f1-score (weighted average) of 0.86.**\n",
    "\n",
    "**Random Forest has an accuracy of 0.90 and an f1-score (weighted average) of 0.90.***\n",
    "**\n",
    "\n",
    "**Logistic Regression has an accuracy of 0.53 and an f1-score (weighted average) of 0.54.****"
   ]
  },
  {
   "cell_type": "markdown",
   "id": "506f09c5",
   "metadata": {
    "papermill": {
     "duration": 0.007641,
     "end_time": "2024-03-04T03:12:35.684933",
     "exception": false,
     "start_time": "2024-03-04T03:12:35.677292",
     "status": "completed"
    },
    "tags": []
   },
   "source": [
    "***Random Forest seems to be the best model among the three based on both accuracy and the f1-score, as it has the highest values for both metrics.**"
   ]
  },
  {
   "cell_type": "code",
   "execution_count": 20,
   "id": "6b1fb6b9",
   "metadata": {
    "execution": {
     "iopub.execute_input": "2024-03-04T03:12:35.702303Z",
     "iopub.status.busy": "2024-03-04T03:12:35.701870Z",
     "iopub.status.idle": "2024-03-04T03:12:35.713392Z",
     "shell.execute_reply": "2024-03-04T03:12:35.712426Z"
    },
    "papermill": {
     "duration": 0.022757,
     "end_time": "2024-03-04T03:12:35.715664",
     "exception": false,
     "start_time": "2024-03-04T03:12:35.692907",
     "status": "completed"
    },
    "tags": []
   },
   "outputs": [],
   "source": [
    "# Model Interpretation \n",
    "\n",
    "import matplotlib.pyplot as plt\n",
    "\n",
    "# lets get feature importances\n",
    "importances = rf_classifier.feature_importances_\n",
    "\n",
    "# lets sort feature importances in descending order\n",
    "indices = np.argsort(importances)[::-1]\n",
    "\n",
    "# Rearrange feature names so they match the sorted feature importances\n",
    "names = [X.columns[i] for i in indices]\n",
    "\n"
   ]
  }
 ],
 "metadata": {
  "kaggle": {
   "accelerator": "none",
   "dataSources": [
    {
     "datasetId": 3699334,
     "sourceId": 6414154,
     "sourceType": "datasetVersion"
    }
   ],
   "dockerImageVersionId": 30626,
   "isGpuEnabled": false,
   "isInternetEnabled": false,
   "language": "python",
   "sourceType": "notebook"
  },
  "kernelspec": {
   "display_name": "Python 3",
   "language": "python",
   "name": "python3"
  },
  "language_info": {
   "codemirror_mode": {
    "name": "ipython",
    "version": 3
   },
   "file_extension": ".py",
   "mimetype": "text/x-python",
   "name": "python",
   "nbconvert_exporter": "python",
   "pygments_lexer": "ipython3",
   "version": "3.10.12"
  },
  "papermill": {
   "default_parameters": {},
   "duration": 10.251654,
   "end_time": "2024-03-04T03:12:36.345234",
   "environment_variables": {},
   "exception": null,
   "input_path": "__notebook__.ipynb",
   "output_path": "__notebook__.ipynb",
   "parameters": {},
   "start_time": "2024-03-04T03:12:26.093580",
   "version": "2.4.0"
  }
 },
 "nbformat": 4,
 "nbformat_minor": 5
}
